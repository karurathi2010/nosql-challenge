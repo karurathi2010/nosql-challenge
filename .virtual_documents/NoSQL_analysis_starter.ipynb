





from pymongo import MongoClient
import pandas as pd
from pprint import pprint


# Create an instance of MongoClient
mongo = MongoClient(port=27017)


# assign the uk_food database to a variable name

db = mongo['uk_food']


# review the collections in our database
db.list_collection_names()



# assign the collection to a variable
establishments = db['establishments']








# Find the establishments with a hygiene score of 20
querry=list(establishments.find({'scores.Hygiene':20}))

# Use count_documents to display the number of documents in the result
count=establishments.count_documents({'scores.Hygiene':20})
# Display the first document in the results using pprint
print(f"Number of documents having hygiene score equals 20 is:{count}")
print("------------------------------")
pprint(querry[0])


# Convert the result to a Pandas DataFrame
hygiene_df=pd.DataFrame(querry)
# Display the number of rows in the DataFrame
print(f" Number of rows in the DataFrame={len(querry)}")
# Display the first 10 rows of the DataFrame
hygiene_df.head(10)





# Find the establishments with London as the Local Authority and has a RatingValue greater than or equal to 4.
london_querry={
               
                 'RatingValue':{'$gte':4},
                  'LocalAuthorityName':{'$regex':'London'} 
                  
              }

# Use count_documents to display the number of documents in the result
count=establishments.count_documents(london_querry)
print(f"Number of documents = {count}")
print("-------------------------------")
# Display the first document in the results using pprint
result=list(establishments.find(london_querry))
pprint(result[0])



# Convert the result to a Pandas DataFrame
london_df=pd.DataFrame(result)
# Display the number of rows in the DataFrame
print(f"Number of rows in the Dataframe is :{len(result)}")
print("----------------------------------------------")
# Display the first 10 rows of the DataFrame
london_df.head(10)





# Search within 0.01 degree on either side of the latitude and longitude.
# Rating value must equal 5
# Sort by hygiene score

degree_search = 0.01
latitude =51.49014200
longitude =0.08384000

query ={'RatingValue':5,
        'geocode.latitude':{'$lte':latitude+degree_search, '$gte':latitude-degree_search},
        'geocode.longitude':{'$lte':longitude+degree_search, '$gte':longitude-degree_search}
       }
sort =[('scores.Hygiene',1)]
limit =5
top=list(establishments.find(query).sort(sort).limit(limit))

# Print the results
pprint(top)


# Convert result to Pandas DataFrame
top_df=pd.DataFrame(top)
top_df





# Create a pipeline that:
# 1. Matches establishments with a hygiene score of 0
match={'$match':{'scores.Hygiene':0}}
# 2. Groups the matches by Local Authority
group={'$group':{
                  '_id':'$LocalAuthorityName',
                  'count':{'$sum':1}
                 }
      }
# 3. Sorts the matches from highest to lowest
sort={'$sort':{'count':-1}}
pipeline=[match,group,sort]
authority=list(establishments.aggregate(pipeline))
# Print the number of documents in the result
print(f"Number of documents={len(authority)}")
print("----------------------------------------")
# Print the first 10 results
pprint(authority[0:10])


# Convert the result to a Pandas DataFrame
authority_df=pd.DataFrame(authority)
# Display the number of rows in the DataFrame
print(f"Number of rows in authority_df={len(authority_df)}")
print("----------------------------------------------------")
# Display the first 10 rows of the DataFrame
authority_df.head(10)



