








# Import dependencies
from pymongo import MongoClient
from pprint import pprint


# Create an instance of MongoClient
mongo = MongoClient(port=27017)


# confirm that our new database was created

print(mongo.list_database_names())


# assign the uk_food database to a variable name
db = mongo['uk_food']


# review the collections in our new database
db.list_collection_names()


# review the collections in our new database
db.list_collection_names()


# review a document in the establishments collection
db.establishments.find_one()


# assign the collection to a variable
establishments = db['establishments']








# Create a dictionary for the new restaurant data
new_restaurant={
    "BusinessName":"Penang Flavours",
    "BusinessType":"Restaurant/Cafe/Canteen",
    "BusinessTypeID":"",
    "AddressLine1":"Penang Flavours",
    "AddressLine2":"146A Plumstead Rd",
    "AddressLine3":"London",
    "AddressLine4":"",
    "PostCode":"SE18 7DY",
    "Phone":"",
    "LocalAuthorityCode":"511",
    "LocalAuthorityName":"Greenwich",
    "LocalAuthorityWebSite":"http://www.royalgreenwich.gov.uk",
    "LocalAuthorityEmailAddress":"health@royalgreenwich.gov.uk",
    "scores":{
        "Hygiene":"",
        "Structural":"",
        "ConfidenceInManagement":""
    },
    "SchemeType":"FHRS",
    "geocode":{
        "longitude":"0.08384000",
        "latitude":"51.49014200"
    },
    "RightToReply":"",
    "Distance":4623.9723280747176,
    "NewRatingPending":True
}


# Insert the new restaurant into the collection
establishments.insert_one(new_restaurant)


# Check that the new restaurant was inserted
add_restaurant=list(establishments.find({'BusinessName':'Penang Flavours'}))
pprint(add_restaurant)





# Find the BusinessTypeID for "Restaurant/Cafe/Canteen" and return only the BusinessTypeID and BusinessType fields
querry={'BusinessType':'Restaurant/Cafe/Canteen'}
fields={'BusinessTypeID':1,'BusinessType':1}
business_doc=list(establishments.find(querry,fields).limit(5))
pprint(business_doc)





# Update the new restaurant with the correct BusinessTypeID
establishments.update_one({'BusinessName':'Penang Flavours'},{'$set':{'BusinessTypeID':1}})


# Confirm that the new restaurant was updated
doc=list(establishments.find({'BusinessName':'Penang Flavours'}))
pprint(doc)





# Find how many documents have LocalAuthorityName as "Dover"
dover_queryy={'LocalAuthorityName':'Dover'}
dover=list(establishments.find(dover_queryy))
establishments.count_documents(dover_queryy)


# Delete all documents where LocalAuthorityName is "Dover"
establishments.delete_many(dover_queryy)


# Check if any remaining documents include Dover
establishments.count_documents(dover_queryy)


# Check that other documents remain with 'find_one'
establishments.find_one()








# Change the data type from String to Decimal for longitude and latitude
establishments.update_many({},[{'$set':{ "geocode.longitude" : {'$toDecimal': "$geocode.longitude"}}}])
establishments.update_many({},[{'$set':{ "geocode.latitude" : {'$toDecimal': "$geocode.latitude"}}}])





# Set non 1-5 Rating Values to Null
non_ratings = ["AwaitingInspection", "Awaiting Inspection", "AwaitingPublication", "Pass", "Exempt"]
establishments.update_many({"RatingValue": {"$in": non_ratings}}, [ {'$set':{ "RatingValue" : None}} ])


# Change the data type from String to Integer for RatingValue
establishments.update_many({},[{'$set':{ "RatingValue" : {'$toInt': "$RatingValue"}}}])


# Check that the coordinates and rating value are now numbers
establishments.find_one()






